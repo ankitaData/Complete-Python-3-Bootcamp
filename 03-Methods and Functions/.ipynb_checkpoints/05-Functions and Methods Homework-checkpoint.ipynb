{
  "cells": [
    {
      "cell_type": "markdown",
      "metadata": {
        "id": "hSXfxu31xgWH"
      },
      "source": [
        "# Functions and Methods Homework \n",
        "\n",
        "Complete the following questions:\n",
        "____\n",
        "**Write a function that computes the volume of a sphere given its radius.**\n",
        "<p>The volume of a sphere is given as $$\\frac{4}{3} πr^3$$</p>"
      ]
    },
    {
      "cell_type": "code",
      "execution_count": 3,
      "metadata": {
        "id": "4lwHpPz8xgWO"
      },
      "outputs": [],
      "source": [
        "def vol(rad):\n",
        "    return((4/3)*3.1415*(rad**3))"
      ]
    },
    {
      "cell_type": "code",
      "execution_count": 4,
      "metadata": {
        "id": "9CSMlusFxgWP",
        "outputId": "9febf699-255a-4acf-c009-eb5b281f7af8",
        "colab": {
          "base_uri": "https://localhost:8080/"
        }
      },
      "outputs": [
        {
          "output_type": "execute_result",
          "data": {
            "text/plain": [
              "33.50933333333333"
            ]
          },
          "metadata": {},
          "execution_count": 4
        }
      ],
      "source": [
        "# Check\n",
        "vol(2)"
      ]
    },
    {
      "cell_type": "markdown",
      "metadata": {
        "id": "ITR8EOlYxgWP"
      },
      "source": [
        "___\n",
        "**Write a function that checks whether a number is in a given range (inclusive of high and low)**"
      ]
    },
    {
      "cell_type": "code",
      "execution_count": 17,
      "metadata": {
        "id": "8_GDGevFxgWQ"
      },
      "outputs": [],
      "source": [
        "def ran_check(num,low,high):\n",
        "    if (low <= num <= high):\n",
        "      print(num, \"is in the range of\", low, \"and\", high )\n",
        "    else:\n",
        "      print(f\"{num} is NOT in the range of {low} and {high}\")"
      ]
    },
    {
      "cell_type": "code",
      "execution_count": 9,
      "metadata": {
        "id": "-5QlVsSkxgWQ",
        "outputId": "ecc40517-607a-4750-8443-a77f6ac5709b",
        "colab": {
          "base_uri": "https://localhost:8080/"
        }
      },
      "outputs": [
        {
          "output_type": "stream",
          "name": "stdout",
          "text": [
            "5 is in the range of 2 and 7\n"
          ]
        }
      ],
      "source": [
        "# Check\n",
        "ran_check(5,2,7)"
      ]
    },
    {
      "cell_type": "code",
      "source": [
        "# Check\n",
        "ran_check(8,2,7)"
      ],
      "metadata": {
        "id": "KvdPatHEzK7e",
        "outputId": "cdde9487-a43a-4a1b-82ed-3888a361673a",
        "colab": {
          "base_uri": "https://localhost:8080/"
        }
      },
      "execution_count": 13,
      "outputs": [
        {
          "output_type": "stream",
          "name": "stdout",
          "text": [
            "8 is NOT in the range of 2 and 7\n"
          ]
        }
      ]
    },
    {
      "cell_type": "markdown",
      "metadata": {
        "id": "kkF1tzA1xgWQ"
      },
      "source": [
        "If you only wanted to return a boolean:"
      ]
    },
    {
      "cell_type": "code",
      "execution_count": 15,
      "metadata": {
        "id": "IrBh3s1RxgWQ"
      },
      "outputs": [],
      "source": [
        "def ran_bool(num,low,high):\n",
        "    if (low <= num <= high):\n",
        "      return True\n",
        "    else:\n",
        "      return False"
      ]
    },
    {
      "cell_type": "code",
      "execution_count": 20,
      "metadata": {
        "id": "yJOIlP7QxgWQ",
        "outputId": "f8c39d02-a3ec-4c04-f101-32951b1e9304",
        "colab": {
          "base_uri": "https://localhost:8080/"
        }
      },
      "outputs": [
        {
          "output_type": "execute_result",
          "data": {
            "text/plain": [
              "True"
            ]
          },
          "metadata": {},
          "execution_count": 20
        }
      ],
      "source": [
        "ran_bool(9,1,10)"
      ]
    },
    {
      "cell_type": "markdown",
      "metadata": {
        "id": "OXswHAbqxgWR"
      },
      "source": [
        "____\n",
        "**Write a Python function that accepts a string and calculates the number of upper case letters and lower case letters.**\n",
        "\n",
        "    Sample String : 'Hello Mr. Rogers, how are you this fine Tuesday?'\n",
        "    Expected Output : \n",
        "    No. of Upper case characters : 4\n",
        "    No. of Lower case Characters : 33\n",
        "\n",
        "HINT: Two string methods that might prove useful: **.isupper()** and **.islower()**\n",
        "\n",
        "If you feel ambitious, explore the Collections module to solve this problem!"
      ]
    },
    {
      "cell_type": "code",
      "execution_count": 26,
      "metadata": {
        "id": "MkmYzMwixgWR"
      },
      "outputs": [],
      "source": [
        "def up_low(s):\n",
        "  up=0\n",
        "  low=0\n",
        "  for word in s:\n",
        "    if word[0].isupper():\n",
        "      up +=1 \n",
        "    elif word[0].islower():\n",
        "      low+=1\n",
        "    else:\n",
        "      pass\n",
        "  print(f\"Original String : {s}\")\n",
        "  print(f\"No. of Upper case characters :{up}\")\n",
        "  print(f\"No. of Lower case characters :{low}\")"
      ]
    },
    {
      "cell_type": "code",
      "execution_count": 30,
      "metadata": {
        "id": "BhbnqhUixgWR",
        "outputId": "f8d65e7d-591e-4865-adf5-0c6f385c78f3",
        "colab": {
          "base_uri": "https://localhost:8080/"
        }
      },
      "outputs": [
        {
          "output_type": "stream",
          "name": "stdout",
          "text": [
            "Original String : Hello Mr. Rogers, how are you this fine Tuesday?\n",
            "No. of Upper case characters :4\n",
            "No. of Lower case characters :33\n"
          ]
        }
      ],
      "source": [
        "s = 'Hello Mr. Rogers, how are you this fine Tuesday?'\n",
        "up_low(s)"
      ]
    },
    {
      "cell_type": "code",
      "source": [
        "def up_low(s):\n",
        "  d={'upper':0,'lower':0}\n",
        "  for word in s:\n",
        "    if word[0].isupper():\n",
        "      d['upper']+=1 \n",
        "    elif word[0].islower():\n",
        "      d['lower']+=1\n",
        "    else:\n",
        "      pass\n",
        "  print(f\"Original String : {s}\")\n",
        "  print(f\"No. of Upper case characters :{d['upper']}\")\n",
        "  print(f\"No. of Lower case characters :{d['lower']}\")"
      ],
      "metadata": {
        "id": "c0qAQ9YMEgFu"
      },
      "execution_count": 28,
      "outputs": []
    },
    {
      "cell_type": "markdown",
      "metadata": {
        "id": "4oTP90h-xgWR"
      },
      "source": [
        "____\n",
        "**Write a Python function that takes a list and returns a new list with unique elements of the first list.**\n",
        "\n",
        "    Sample List : [1,1,1,1,2,2,3,3,3,3,4,5]\n",
        "    Unique List : [1, 2, 3, 4, 5]"
      ]
    },
    {
      "cell_type": "code",
      "execution_count": 33,
      "metadata": {
        "id": "x9Y--VEqxgWR"
      },
      "outputs": [],
      "source": [
        "def unique_list(lst):\n",
        "  return(list(set(lst)))"
      ]
    },
    {
      "cell_type": "code",
      "execution_count": 34,
      "metadata": {
        "id": "oUqAwjJ9xgWR",
        "outputId": "7fe6ee91-5f22-4ca4-f534-5a8848b396fd",
        "colab": {
          "base_uri": "https://localhost:8080/"
        }
      },
      "outputs": [
        {
          "output_type": "execute_result",
          "data": {
            "text/plain": [
              "[1, 2, 3, 4, 5]"
            ]
          },
          "metadata": {},
          "execution_count": 34
        }
      ],
      "source": [
        "unique_list([1,1,1,1,2,2,3,3,3,3,4,5])"
      ]
    },
    {
      "cell_type": "code",
      "source": [
        "def unique_list(lst):\n",
        "  x=[]\n",
        "  for i in lst:\n",
        "    if i not in x:\n",
        "      x.append(i)\n",
        "    else:\n",
        "      pass\n",
        "  return x"
      ],
      "metadata": {
        "id": "kgk6hEVYFXUp"
      },
      "execution_count": 40,
      "outputs": []
    },
    {
      "cell_type": "code",
      "source": [
        "unique_list([1,1,1,1,2,2,3,3,3,3,4,5])"
      ],
      "metadata": {
        "id": "aRoFoGKfFoL5",
        "outputId": "859e0738-6df2-4693-ff8c-9c26b468a390",
        "colab": {
          "base_uri": "https://localhost:8080/"
        }
      },
      "execution_count": 41,
      "outputs": [
        {
          "output_type": "execute_result",
          "data": {
            "text/plain": [
              "[1, 2, 3, 4, 5]"
            ]
          },
          "metadata": {},
          "execution_count": 41
        }
      ]
    },
    {
      "cell_type": "markdown",
      "metadata": {
        "id": "1U74nMmoxgWS"
      },
      "source": [
        "____\n",
        "**Write a Python function to multiply all the numbers in a list.**\n",
        "\n",
        "    Sample List : [1, 2, 3, -4]\n",
        "    Expected Output : -24"
      ]
    },
    {
      "cell_type": "code",
      "execution_count": 45,
      "metadata": {
        "id": "BD3PRjqpxgWS"
      },
      "outputs": [],
      "source": [
        "def multiply(numbers):\n",
        "  mul=1\n",
        "  for i in numbers:\n",
        "    mul=mul*i\n",
        "  return(mul)"
      ]
    },
    {
      "cell_type": "code",
      "execution_count": 46,
      "metadata": {
        "id": "qp27_SwyxgWS",
        "outputId": "2468c2b1-a66b-4ce5-ce99-615798e7c0e2",
        "colab": {
          "base_uri": "https://localhost:8080/"
        }
      },
      "outputs": [
        {
          "output_type": "execute_result",
          "data": {
            "text/plain": [
              "-24"
            ]
          },
          "metadata": {},
          "execution_count": 46
        }
      ],
      "source": [
        "multiply([1,2,3,-4])"
      ]
    },
    {
      "cell_type": "markdown",
      "metadata": {
        "id": "lQ7-LLMOxgWS"
      },
      "source": [
        "____\n",
        "**Write a Python function that checks whether a passed in string is palindrome or not.**\n",
        "\n",
        "Note: A palindrome is word, phrase, or sequence that reads the same backward as forward, e.g., madam or nurses run."
      ]
    },
    {
      "cell_type": "code",
      "execution_count": 55,
      "metadata": {
        "id": "P8rx0iKGxgWS"
      },
      "outputs": [],
      "source": [
        "def palindrome(s):\n",
        "  s=s.replace(' ','')\n",
        "  return (s.lower() == s[::-1].lower())"
      ]
    },
    {
      "cell_type": "code",
      "execution_count": 56,
      "metadata": {
        "id": "-MpMgbSXxgWS",
        "outputId": "b67822cc-9f67-495a-b658-1e3eeed50175",
        "colab": {
          "base_uri": "https://localhost:8080/"
        }
      },
      "outputs": [
        {
          "output_type": "execute_result",
          "data": {
            "text/plain": [
              "True"
            ]
          },
          "metadata": {},
          "execution_count": 56
        }
      ],
      "source": [
        "palindrome('helleh')"
      ]
    },
    {
      "cell_type": "code",
      "source": [
        "palindrome('nurses run')"
      ],
      "metadata": {
        "id": "kMKOCKdBHmOW",
        "outputId": "1d301f13-5b3a-419b-9558-ad3790bcbc46",
        "colab": {
          "base_uri": "https://localhost:8080/"
        }
      },
      "execution_count": 57,
      "outputs": [
        {
          "output_type": "execute_result",
          "data": {
            "text/plain": [
              "True"
            ]
          },
          "metadata": {},
          "execution_count": 57
        }
      ]
    },
    {
      "cell_type": "markdown",
      "metadata": {
        "id": "JGyy9AH1xgWT"
      },
      "source": [
        "____\n",
        "#### Hard:\n",
        "\n",
        "**Write a Python function to check whether a string is pangram or not.**\n",
        "\n",
        "    Note : Pangrams are words or sentences containing every letter of the alphabet at least once.\n",
        "    For example : \"The quick brown fox jumps over the lazy dog\"\n",
        "\n",
        "Hint: Look at the string module"
      ]
    },
    {
      "cell_type": "code",
      "execution_count": 88,
      "metadata": {
        "id": "sVEIN914xgWT"
      },
      "outputs": [],
      "source": [
        "import string\n",
        "\n",
        "def ispangram(str1, alphabet=string.ascii_lowercase):\n",
        "  str1=str1.replace(' ','')\n",
        "  str1=set(str1.lower())\n",
        "  alphaset=set(alphabet)\n",
        "  print(str1)\n",
        "  print(alphaset)\n",
        "  return str1 == alphaset"
      ]
    },
    {
      "cell_type": "code",
      "execution_count": 89,
      "metadata": {
        "id": "7P4eAK3yxgWT",
        "outputId": "36d28a5e-55e6-4677-c416-e0f0fccc237a",
        "colab": {
          "base_uri": "https://localhost:8080/"
        }
      },
      "outputs": [
        {
          "output_type": "stream",
          "name": "stdout",
          "text": [
            "{'u', 't', 'n', 'e', 'm', 'y', 'r', 'b', 'g', 'o', 'z', 'h', 's', 'j', 'l', 'w', 'a', 'p', 'k', 'f', 'i', 'v', 'x', 'c', 'q', 'd'}\n",
            "{'u', 't', 'n', 'e', 'm', 'y', 'r', 'b', 'g', 'o', 'z', 'h', 's', 'j', 'l', 'w', 'a', 'p', 'k', 'f', 'i', 'v', 'x', 'c', 'q', 'd'}\n"
          ]
        },
        {
          "output_type": "execute_result",
          "data": {
            "text/plain": [
              "True"
            ]
          },
          "metadata": {},
          "execution_count": 89
        }
      ],
      "source": [
        "ispangram(\"The quick brown fox jumps over the lazy dog\")"
      ]
    },
    {
      "cell_type": "code",
      "execution_count": 90,
      "metadata": {
        "id": "CKTVe0RkxgWT",
        "outputId": "87afe01c-fb06-4277-d82f-f3f53973fdcc",
        "colab": {
          "base_uri": "https://localhost:8080/",
          "height": 36
        }
      },
      "outputs": [
        {
          "output_type": "execute_result",
          "data": {
            "text/plain": [
              "'abcdefghijklmnopqrstuvwxyz'"
            ],
            "application/vnd.google.colaboratory.intrinsic+json": {
              "type": "string"
            }
          },
          "metadata": {},
          "execution_count": 90
        }
      ],
      "source": [
        "string.ascii_lowercase"
      ]
    },
    {
      "cell_type": "markdown",
      "metadata": {
        "collapsed": true,
        "id": "zlAFqw_ZxgWT"
      },
      "source": [
        "#### Great Job!"
      ]
    }
  ],
  "metadata": {
    "kernelspec": {
      "display_name": "Python 3",
      "language": "python",
      "name": "python3"
    },
    "language_info": {
      "codemirror_mode": {
        "name": "ipython",
        "version": 3
      },
      "file_extension": ".py",
      "mimetype": "text/x-python",
      "name": "python",
      "nbconvert_exporter": "python",
      "pygments_lexer": "ipython3",
      "version": "3.6.2"
    },
    "colab": {
      "provenance": []
    }
  },
  "nbformat": 4,
  "nbformat_minor": 0
}