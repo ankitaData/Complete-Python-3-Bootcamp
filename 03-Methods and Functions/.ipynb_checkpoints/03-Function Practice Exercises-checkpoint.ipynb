{
  "cells": [
    {
      "cell_type": "markdown",
      "metadata": {
        "id": "v5y06zbxodKQ"
      },
      "source": [
        "___\n",
        "\n",
        "<a href='https://www.udemy.com/user/joseportilla/'><img src='https://github.com/ankitaData/Complete-Python-3-Bootcamp/blob/master/03-Methods%20and%20Functions/Pierian_Data_Logo.png?raw=1'/></a>\n",
        "___\n",
        "<center><em>Content Copyright by Pierian Data</em></center>"
      ]
    },
    {
      "cell_type": "markdown",
      "metadata": {
        "id": "qdJyJK1bodKU"
      },
      "source": [
        "# Function Practice Exercises\n",
        "\n",
        "Problems are arranged in increasing difficulty:\n",
        "* Warmup - these can be solved using basic comparisons and methods\n",
        "* Level 1 - these may involve if/then conditional statements and simple methods\n",
        "* Level 2 - these may require iterating over sequences, usually with some kind of loop\n",
        "* Challenging - these will take some creativity to solve"
      ]
    },
    {
      "cell_type": "markdown",
      "metadata": {
        "id": "XB3C3XJxodKV"
      },
      "source": [
        "## WARMUP SECTION:"
      ]
    },
    {
      "cell_type": "markdown",
      "metadata": {
        "id": "0Jc4NZw0odKV"
      },
      "source": [
        "#### LESSER OF TWO EVENS: Write a function that returns the lesser of two given numbers *if* both numbers are even, but returns the greater if one or both numbers are odd\n",
        "    lesser_of_two_evens(2,4) --> 2\n",
        "    lesser_of_two_evens(2,5) --> 5"
      ]
    },
    {
      "cell_type": "code",
      "execution_count": 3,
      "metadata": {
        "collapsed": true,
        "id": "M3_CzmdSodKW"
      },
      "outputs": [],
      "source": [
        "def lesser_of_two_evens(a,b):\n",
        "  if a%2==0 and b%2==0:\n",
        "    return min(a,b)\n",
        "  else:\n",
        "    return(max(a,b))\n"
      ]
    },
    {
      "cell_type": "code",
      "execution_count": 4,
      "metadata": {
        "collapsed": true,
        "id": "ggGYJwgRodKX",
        "outputId": "95d53791-47a4-46fd-8980-a59d43a689f0",
        "colab": {
          "base_uri": "https://localhost:8080/"
        }
      },
      "outputs": [
        {
          "output_type": "execute_result",
          "data": {
            "text/plain": [
              "2"
            ]
          },
          "metadata": {},
          "execution_count": 4
        }
      ],
      "source": [
        "# Check\n",
        "lesser_of_two_evens(2,4)"
      ]
    },
    {
      "cell_type": "code",
      "execution_count": 5,
      "metadata": {
        "collapsed": true,
        "id": "kG8ucndLodKX",
        "outputId": "6a7ccca1-8ce0-4489-c258-60f47cf27bf2",
        "colab": {
          "base_uri": "https://localhost:8080/"
        }
      },
      "outputs": [
        {
          "output_type": "execute_result",
          "data": {
            "text/plain": [
              "5"
            ]
          },
          "metadata": {},
          "execution_count": 5
        }
      ],
      "source": [
        "# Check\n",
        "lesser_of_two_evens(2,5)"
      ]
    },
    {
      "cell_type": "markdown",
      "metadata": {
        "id": "fH55CtUEodKX"
      },
      "source": [
        "#### ANIMAL CRACKERS: Write a function takes a two-word string and returns True if both words begin with same letter\n",
        "    animal_crackers('Levelheaded Llama') --> True\n",
        "    animal_crackers('Crazy Kangaroo') --> False"
      ]
    },
    {
      "cell_type": "code",
      "execution_count": 15,
      "metadata": {
        "collapsed": true,
        "id": "CCG6teYzodKY"
      },
      "outputs": [],
      "source": [
        "def animal_crackers(text):\n",
        "  text = text.split()\n",
        "  if text[0][0].lower() == text[1][0].lower():\n",
        "    return True\n",
        "  else:\n",
        "    return False"
      ]
    },
    {
      "cell_type": "code",
      "execution_count": 18,
      "metadata": {
        "collapsed": true,
        "id": "h_StOwxuodKY",
        "outputId": "70e236e1-21ca-4c9b-8c2f-85a57a05cf5c",
        "colab": {
          "base_uri": "https://localhost:8080/"
        }
      },
      "outputs": [
        {
          "output_type": "execute_result",
          "data": {
            "text/plain": [
              "True"
            ]
          },
          "metadata": {},
          "execution_count": 18
        }
      ],
      "source": [
        "# Check\n",
        "animal_crackers('Levelheaded Llama')"
      ]
    },
    {
      "cell_type": "code",
      "execution_count": 19,
      "metadata": {
        "collapsed": true,
        "id": "hgaoyJhWodKY",
        "outputId": "17bf95e5-8e80-48c1-ac8f-cbb737c93f91",
        "colab": {
          "base_uri": "https://localhost:8080/"
        }
      },
      "outputs": [
        {
          "output_type": "execute_result",
          "data": {
            "text/plain": [
              "False"
            ]
          },
          "metadata": {},
          "execution_count": 19
        }
      ],
      "source": [
        "# Check\n",
        "animal_crackers('Crazy Kangaroo')"
      ]
    },
    {
      "cell_type": "markdown",
      "metadata": {
        "id": "juaS8HzEodKY"
      },
      "source": [
        "#### MAKES TWENTY: Given two integers, return True if the sum of the integers is 20 *or* if one of the integers is 20. If not, return False\n",
        "\n",
        "    makes_twenty(20,10) --> True\n",
        "    makes_twenty(12,8) --> True\n",
        "    makes_twenty(2,3) --> False"
      ]
    },
    {
      "cell_type": "code",
      "execution_count": 20,
      "metadata": {
        "collapsed": true,
        "id": "v2EWuyulodKZ"
      },
      "outputs": [],
      "source": [
        "def makes_twenty(n1,n2):\n",
        "  if n1+n2==20 or n1==20 or n2==20:\n",
        "    return True\n",
        "  else:\n",
        "    return False"
      ]
    },
    {
      "cell_type": "code",
      "execution_count": 21,
      "metadata": {
        "collapsed": true,
        "id": "Pb8aEoGXodKZ",
        "outputId": "6886d196-a521-4bb2-8bd2-2db8df13ea2c",
        "colab": {
          "base_uri": "https://localhost:8080/"
        }
      },
      "outputs": [
        {
          "output_type": "execute_result",
          "data": {
            "text/plain": [
              "True"
            ]
          },
          "metadata": {},
          "execution_count": 21
        }
      ],
      "source": [
        "# Check\n",
        "makes_twenty(20,10)"
      ]
    },
    {
      "cell_type": "code",
      "execution_count": 22,
      "metadata": {
        "collapsed": true,
        "id": "rpw1H20sodKZ",
        "outputId": "601ff31b-3a3a-4901-9822-b302339e429d",
        "colab": {
          "base_uri": "https://localhost:8080/"
        }
      },
      "outputs": [
        {
          "output_type": "execute_result",
          "data": {
            "text/plain": [
              "False"
            ]
          },
          "metadata": {},
          "execution_count": 22
        }
      ],
      "source": [
        "# Check\n",
        "makes_twenty(2,3)"
      ]
    },
    {
      "cell_type": "markdown",
      "metadata": {
        "id": "b5M2bTOEodKa"
      },
      "source": [
        "# LEVEL 1 PROBLEMS"
      ]
    },
    {
      "cell_type": "markdown",
      "metadata": {
        "id": "667wjNV-odKa"
      },
      "source": [
        "#### OLD MACDONALD: Write a function that capitalizes the first and fourth letters of a name\n",
        "     \n",
        "    old_macdonald('macdonald') --> MacDonald\n",
        "    \n",
        "Note: `'macdonald'.capitalize()` returns `'Macdonald'`"
      ]
    },
    {
      "cell_type": "code",
      "execution_count": null,
      "metadata": {
        "collapsed": true,
        "id": "mBExaA1nodKa"
      },
      "outputs": [],
      "source": [
        "def old_macdonald(name):\n",
        "  "
      ]
    },
    {
      "cell_type": "code",
      "execution_count": null,
      "metadata": {
        "collapsed": true,
        "id": "e5a2gWgXodKa"
      },
      "outputs": [],
      "source": [
        "# Check\n",
        "old_macdonald('macdonald')"
      ]
    },
    {
      "cell_type": "markdown",
      "metadata": {
        "id": "ib9aDBxrodKb"
      },
      "source": [
        "#### MASTER YODA: Given a sentence, return a sentence with the words reversed\n",
        "\n",
        "    master_yoda('I am home') --> 'home am I'\n",
        "    master_yoda('We are ready') --> 'ready are We'\n",
        "    \n",
        "Note: The .join() method may be useful here. The .join() method allows you to join together strings in a list with some connector string. For example, some uses of the .join() method:\n",
        "\n",
        "    >>> \"--\".join(['a','b','c'])\n",
        "    >>> 'a--b--c'\n",
        "\n",
        "This means if you had a list of words you wanted to turn back into a sentence, you could just join them with a single space string:\n",
        "\n",
        "    >>> \" \".join(['Hello','world'])\n",
        "    >>> \"Hello world\""
      ]
    },
    {
      "cell_type": "code",
      "execution_count": 29,
      "metadata": {
        "collapsed": true,
        "id": "N8CMykblodKb"
      },
      "outputs": [],
      "source": [
        "def master_yoda(text):\n",
        "  return \" \".join(text.split()[::-1])"
      ]
    },
    {
      "cell_type": "code",
      "execution_count": 30,
      "metadata": {
        "collapsed": true,
        "id": "82n_77mVodKb",
        "outputId": "2de03842-3a6e-4f9e-c28c-a611774da32f",
        "colab": {
          "base_uri": "https://localhost:8080/",
          "height": 36
        }
      },
      "outputs": [
        {
          "output_type": "execute_result",
          "data": {
            "text/plain": [
              "'home am I'"
            ],
            "application/vnd.google.colaboratory.intrinsic+json": {
              "type": "string"
            }
          },
          "metadata": {},
          "execution_count": 30
        }
      ],
      "source": [
        "# Check\n",
        "master_yoda('I am home')"
      ]
    },
    {
      "cell_type": "code",
      "execution_count": 31,
      "metadata": {
        "collapsed": true,
        "id": "79JcFm3RodKb",
        "outputId": "fa109e99-3ba3-45bb-c7b8-222cdaaf7511",
        "colab": {
          "base_uri": "https://localhost:8080/",
          "height": 36
        }
      },
      "outputs": [
        {
          "output_type": "execute_result",
          "data": {
            "text/plain": [
              "'ready are We'"
            ],
            "application/vnd.google.colaboratory.intrinsic+json": {
              "type": "string"
            }
          },
          "metadata": {},
          "execution_count": 31
        }
      ],
      "source": [
        "# Check\n",
        "master_yoda('We are ready')"
      ]
    },
    {
      "cell_type": "markdown",
      "metadata": {
        "id": "cYWwNTQoodKc"
      },
      "source": [
        "#### ALMOST THERE: Given an integer n, return True if n is within 10 of either 100 or 200\n",
        "\n",
        "    almost_there(90) --> True\n",
        "    almost_there(104) --> True\n",
        "    almost_there(150) --> False\n",
        "    almost_there(209) --> True\n",
        "    \n",
        "NOTE: `abs(num)` returns the absolute value of a number"
      ]
    },
    {
      "cell_type": "code",
      "execution_count": null,
      "metadata": {
        "collapsed": true,
        "id": "7vLUwwxGodKc"
      },
      "outputs": [],
      "source": [
        "def almost_there(n):\n",
        "  return n<10"
      ]
    },
    {
      "cell_type": "code",
      "execution_count": null,
      "metadata": {
        "collapsed": true,
        "id": "NgabJBS4odKc"
      },
      "outputs": [],
      "source": [
        "# Check\n",
        "almost_there(104)"
      ]
    },
    {
      "cell_type": "code",
      "execution_count": null,
      "metadata": {
        "collapsed": true,
        "id": "WMSfXxNdodKd"
      },
      "outputs": [],
      "source": [
        "# Check\n",
        "almost_there(150)"
      ]
    },
    {
      "cell_type": "code",
      "execution_count": null,
      "metadata": {
        "collapsed": true,
        "id": "MJKN08mNodKd"
      },
      "outputs": [],
      "source": [
        "# Check\n",
        "almost_there(209)"
      ]
    },
    {
      "cell_type": "markdown",
      "metadata": {
        "id": "Ts0rGFsyodKd"
      },
      "source": [
        "# LEVEL 2 PROBLEMS"
      ]
    },
    {
      "cell_type": "markdown",
      "metadata": {
        "id": "_psymEyeodKd"
      },
      "source": [
        "#### FIND 33: \n",
        "\n",
        "Given a list of ints, return True if the array contains a 3 next to a 3 somewhere.\n",
        "\n",
        "    has_33([1, 3, 3]) → True\n",
        "    has_33([1, 3, 1, 3]) → False\n",
        "    has_33([3, 1, 3]) → False"
      ]
    },
    {
      "cell_type": "code",
      "execution_count": null,
      "metadata": {
        "collapsed": true,
        "id": "fFfw-wMDodKd"
      },
      "outputs": [],
      "source": [
        "def has_33(nums):\n",
        "    pass"
      ]
    },
    {
      "cell_type": "code",
      "execution_count": null,
      "metadata": {
        "collapsed": true,
        "id": "h4ekt32bodKe"
      },
      "outputs": [],
      "source": [
        "# Check\n",
        "has_33([1, 3, 3])"
      ]
    },
    {
      "cell_type": "code",
      "execution_count": null,
      "metadata": {
        "collapsed": true,
        "id": "2xeJvXeuodKe"
      },
      "outputs": [],
      "source": [
        "# Check\n",
        "has_33([1, 3, 1, 3])"
      ]
    },
    {
      "cell_type": "code",
      "execution_count": null,
      "metadata": {
        "collapsed": true,
        "id": "zwOD9VqDodKe"
      },
      "outputs": [],
      "source": [
        "# Check\n",
        "has_33([3, 1, 3])"
      ]
    },
    {
      "cell_type": "markdown",
      "metadata": {
        "id": "ENV3ZAOxodKe"
      },
      "source": [
        "#### PAPER DOLL: Given a string, return a string where for every character in the original there are three characters\n",
        "    paper_doll('Hello') --> 'HHHeeellllllooo'\n",
        "    paper_doll('Mississippi') --> 'MMMiiissssssiiippppppiii'"
      ]
    },
    {
      "cell_type": "code",
      "execution_count": 32,
      "metadata": {
        "collapsed": true,
        "id": "fPHrBXtjodKe"
      },
      "outputs": [],
      "source": [
        "def paper_doll(text):\n",
        "  new=\"\"\n",
        "  for i in text:\n",
        "    new = new + i*3\n",
        "  return new"
      ]
    },
    {
      "cell_type": "code",
      "execution_count": 33,
      "metadata": {
        "collapsed": true,
        "id": "C4esT62OodKe",
        "outputId": "62ed5e98-bd45-485d-8df7-f9d274071f2e",
        "colab": {
          "base_uri": "https://localhost:8080/",
          "height": 36
        }
      },
      "outputs": [
        {
          "output_type": "execute_result",
          "data": {
            "text/plain": [
              "'HHHeeellllllooo'"
            ],
            "application/vnd.google.colaboratory.intrinsic+json": {
              "type": "string"
            }
          },
          "metadata": {},
          "execution_count": 33
        }
      ],
      "source": [
        "# Check\n",
        "paper_doll('Hello')"
      ]
    },
    {
      "cell_type": "code",
      "execution_count": 34,
      "metadata": {
        "collapsed": true,
        "id": "hh-R2gyiodKe",
        "outputId": "18c4a855-718f-46b5-aa22-0fe328808013",
        "colab": {
          "base_uri": "https://localhost:8080/",
          "height": 36
        }
      },
      "outputs": [
        {
          "output_type": "execute_result",
          "data": {
            "text/plain": [
              "'MMMiiissssssiiissssssiiippppppiii'"
            ],
            "application/vnd.google.colaboratory.intrinsic+json": {
              "type": "string"
            }
          },
          "metadata": {},
          "execution_count": 34
        }
      ],
      "source": [
        "# Check\n",
        "paper_doll('Mississippi')"
      ]
    },
    {
      "cell_type": "markdown",
      "metadata": {
        "id": "H4HwmSJWodKf"
      },
      "source": [
        "#### BLACKJACK: Given three integers between 1 and 11, if their sum is less than or equal to 21, return their sum. If their sum exceeds 21 *and* there's an eleven, reduce the total sum by 10. Finally, if the sum (even after adjustment) exceeds 21, return 'BUST'\n",
        "    blackjack(5,6,7) --> 18\n",
        "    blackjack(9,9,9) --> 'BUST'\n",
        "    blackjack(9,9,11) --> 19"
      ]
    },
    {
      "cell_type": "code",
      "execution_count": 40,
      "metadata": {
        "collapsed": true,
        "id": "t6Exv8vzodKf"
      },
      "outputs": [],
      "source": [
        "def blackjack(a,b,c):\n",
        "  sum = a+b+c\n",
        "  if sum <= 21:\n",
        "    return sum\n",
        "  elif sum<31 and 11 in [a,b,c]:\n",
        "    return sum - 10\n",
        "  else:\n",
        "    return \"BUST\""
      ]
    },
    {
      "cell_type": "code",
      "execution_count": 41,
      "metadata": {
        "collapsed": true,
        "id": "QZB0L32modKf",
        "outputId": "389b3da5-4d7d-4a7d-de83-de8d760beb54",
        "colab": {
          "base_uri": "https://localhost:8080/"
        }
      },
      "outputs": [
        {
          "output_type": "execute_result",
          "data": {
            "text/plain": [
              "18"
            ]
          },
          "metadata": {},
          "execution_count": 41
        }
      ],
      "source": [
        "# Check\n",
        "blackjack(5,6,7)"
      ]
    },
    {
      "cell_type": "code",
      "execution_count": 42,
      "metadata": {
        "collapsed": true,
        "id": "LNS9dUXYodKf",
        "outputId": "685a0517-89b9-43b7-d8d3-35c18ff802ef",
        "colab": {
          "base_uri": "https://localhost:8080/",
          "height": 36
        }
      },
      "outputs": [
        {
          "output_type": "execute_result",
          "data": {
            "text/plain": [
              "'BUST'"
            ],
            "application/vnd.google.colaboratory.intrinsic+json": {
              "type": "string"
            }
          },
          "metadata": {},
          "execution_count": 42
        }
      ],
      "source": [
        "# Check\n",
        "blackjack(9,9,9)"
      ]
    },
    {
      "cell_type": "code",
      "execution_count": 43,
      "metadata": {
        "collapsed": true,
        "id": "ke2bh4WaodKf",
        "outputId": "cc8a84e7-5bff-46b5-8e74-52b132e6db7d",
        "colab": {
          "base_uri": "https://localhost:8080/"
        }
      },
      "outputs": [
        {
          "output_type": "execute_result",
          "data": {
            "text/plain": [
              "19"
            ]
          },
          "metadata": {},
          "execution_count": 43
        }
      ],
      "source": [
        "# Check\n",
        "blackjack(9,9,11)"
      ]
    },
    {
      "cell_type": "code",
      "source": [
        "# Check\n",
        "blackjack(9,10,11)"
      ],
      "metadata": {
        "id": "CAsxkS9MoGCx",
        "outputId": "9cce7978-8e8f-40a8-ee3b-bc541c3fb918",
        "colab": {
          "base_uri": "https://localhost:8080/"
        }
      },
      "execution_count": 48,
      "outputs": [
        {
          "output_type": "execute_result",
          "data": {
            "text/plain": [
              "20"
            ]
          },
          "metadata": {},
          "execution_count": 48
        }
      ]
    },
    {
      "cell_type": "markdown",
      "metadata": {
        "id": "pFM477sIodKf"
      },
      "source": [
        "#### SUMMER OF '69: Return the sum of the numbers in the array, except ignore sections of numbers starting with a 6 and extending to the next 9 (every 6 will be followed by at least one 9). Return 0 for no numbers.\n",
        " \n",
        "    summer_69([1, 3, 5]) --> 9\n",
        "    summer_69([4, 5, 6, 7, 8, 9]) --> 9\n",
        "    summer_69([2, 1, 6, 9, 11]) --> 14"
      ]
    },
    {
      "cell_type": "code",
      "execution_count": null,
      "metadata": {
        "collapsed": true,
        "id": "jRLZppUWodKg"
      },
      "outputs": [],
      "source": [
        "def summer_69(arr):\n",
        "    pass"
      ]
    },
    {
      "cell_type": "code",
      "execution_count": null,
      "metadata": {
        "collapsed": true,
        "id": "Db5XhBoVodKg"
      },
      "outputs": [],
      "source": [
        "# Check\n",
        "summer_69([1, 3, 5])"
      ]
    },
    {
      "cell_type": "code",
      "execution_count": null,
      "metadata": {
        "collapsed": true,
        "id": "yAjDzBN-odKg"
      },
      "outputs": [],
      "source": [
        "# Check\n",
        "summer_69([4, 5, 6, 7, 8, 9])"
      ]
    },
    {
      "cell_type": "code",
      "execution_count": null,
      "metadata": {
        "collapsed": true,
        "id": "2LIJuAYhodKg"
      },
      "outputs": [],
      "source": [
        "# Check\n",
        "summer_69([2, 1, 6, 9, 11])"
      ]
    },
    {
      "cell_type": "markdown",
      "metadata": {
        "id": "Vvtbp6yVodKg"
      },
      "source": [
        "# CHALLENGING PROBLEMS"
      ]
    },
    {
      "cell_type": "markdown",
      "metadata": {
        "id": "g0X5FY5OodKg"
      },
      "source": [
        "#### SPY GAME: Write a function that takes in a list of integers and returns True if it contains 007 in order\n",
        "\n",
        "     spy_game([1,2,4,0,0,7,5]) --> True\n",
        "     spy_game([1,0,2,4,0,5,7]) --> True\n",
        "     spy_game([1,7,2,0,4,5,0]) --> False\n"
      ]
    },
    {
      "cell_type": "code",
      "execution_count": null,
      "metadata": {
        "collapsed": true,
        "id": "oacyWRg2odKh"
      },
      "outputs": [],
      "source": [
        "def spy_game(nums):\n",
        "    pass"
      ]
    },
    {
      "cell_type": "code",
      "execution_count": null,
      "metadata": {
        "collapsed": true,
        "id": "bhHdiknDodKh"
      },
      "outputs": [],
      "source": [
        "# Check\n",
        "spy_game([1,2,4,0,0,7,5])"
      ]
    },
    {
      "cell_type": "code",
      "execution_count": null,
      "metadata": {
        "collapsed": true,
        "id": "AGaxcO0qodKh"
      },
      "outputs": [],
      "source": [
        "# Check\n",
        "spy_game([1,0,2,4,0,5,7])"
      ]
    },
    {
      "cell_type": "code",
      "execution_count": null,
      "metadata": {
        "collapsed": true,
        "id": "gliHBd7VodKh"
      },
      "outputs": [],
      "source": [
        "# Check\n",
        "spy_game([1,7,2,0,4,5,0])"
      ]
    },
    {
      "cell_type": "markdown",
      "metadata": {
        "id": "bsFAD-RUodKh"
      },
      "source": [
        "#### COUNT PRIMES: Write a function that returns the *number* of prime numbers that exist up to and including a given number\n",
        "    count_primes(100) --> 25\n",
        "\n",
        "By convention, 0 and 1 are not prime."
      ]
    },
    {
      "cell_type": "code",
      "execution_count": null,
      "metadata": {
        "collapsed": true,
        "id": "uCGYctZbodKh"
      },
      "outputs": [],
      "source": [
        "def count_primes(num):\n",
        "    pass\n",
        "                "
      ]
    },
    {
      "cell_type": "code",
      "execution_count": null,
      "metadata": {
        "collapsed": true,
        "id": "8YB_vMo7odKh"
      },
      "outputs": [],
      "source": [
        "# Check\n",
        "count_primes(100)"
      ]
    },
    {
      "cell_type": "markdown",
      "metadata": {
        "id": "6k8UojmUodKi"
      },
      "source": [
        "### Just for fun:\n",
        "#### PRINT BIG: Write a function that takes in a single letter, and returns a 5x5 representation of that letter\n",
        "    print_big('a')\n",
        "    \n",
        "    out:   *  \n",
        "          * *\n",
        "         *****\n",
        "         *   *\n",
        "         *   *\n",
        "HINT: Consider making a dictionary of possible patterns, and mapping the alphabet to specific 5-line combinations of patterns. <br>For purposes of this exercise, it's ok if your dictionary stops at \"E\"."
      ]
    },
    {
      "cell_type": "code",
      "execution_count": null,
      "metadata": {
        "collapsed": true,
        "id": "_wpbXARAodKi"
      },
      "outputs": [],
      "source": [
        "def print_big(letter):\n",
        "    pass"
      ]
    },
    {
      "cell_type": "code",
      "execution_count": null,
      "metadata": {
        "collapsed": true,
        "id": "BTyx5-0bodKi"
      },
      "outputs": [],
      "source": [
        "print_big('a')"
      ]
    },
    {
      "cell_type": "markdown",
      "metadata": {
        "id": "Xi3VwAQLodKi"
      },
      "source": [
        "## Great Job!"
      ]
    }
  ],
  "metadata": {
    "kernelspec": {
      "display_name": "Python 3",
      "language": "python",
      "name": "python3"
    },
    "language_info": {
      "codemirror_mode": {
        "name": "ipython",
        "version": 3
      },
      "file_extension": ".py",
      "mimetype": "text/x-python",
      "name": "python",
      "nbconvert_exporter": "python",
      "pygments_lexer": "ipython3",
      "version": "3.6.6"
    },
    "colab": {
      "provenance": []
    }
  },
  "nbformat": 4,
  "nbformat_minor": 0
}